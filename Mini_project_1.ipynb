{
  "nbformat": 4,
  "nbformat_minor": 0,
  "metadata": {
    "colab": {
      "provenance": [],
      "authorship_tag": "ABX9TyPKqQPK6QIHp3tAG5Ii6U+8",
      "include_colab_link": true
    },
    "kernelspec": {
      "name": "python3",
      "display_name": "Python 3"
    },
    "language_info": {
      "name": "python"
    }
  },
  "cells": [
    {
      "cell_type": "markdown",
      "metadata": {
        "id": "view-in-github",
        "colab_type": "text"
      },
      "source": [
        "<a href=\"https://colab.research.google.com/github/GauravSaini50/Mini-Project-1/blob/main/Mini_project_1.ipynb\" target=\"_parent\"><img src=\"https://colab.research.google.com/assets/colab-badge.svg\" alt=\"Open In Colab\"/></a>"
      ]
    },
    {
      "cell_type": "markdown",
      "source": [
        "List\n",
        "\n",
        "\n",
        "\n",
        "\n",
        "\n"
      ],
      "metadata": {
        "id": "nWwnsdVCBviP"
      }
    },
    {
      "cell_type": "code",
      "execution_count": 21,
      "metadata": {
        "colab": {
          "base_uri": "https://localhost:8080/"
        },
        "id": "9QXr3QQs2vWn",
        "outputId": "3e303159-29c9-45ad-9ce5-ea7393b01bde"
      },
      "outputs": [
        {
          "output_type": "stream",
          "name": "stdout",
          "text": [
            "[11, 12, 13, 14, 50, 60]\n"
          ]
        }
      ],
      "source": [
        "L=[11,12,13,14]\n",
        "# (i)\n",
        "L.append(50)\n",
        "L.append(60)\n",
        "print(L)"
      ]
    },
    {
      "cell_type": "code",
      "source": [
        "# (ii)\n",
        "L.remove(11)\n",
        "L.remove(13)\n",
        "print(L)"
      ],
      "metadata": {
        "colab": {
          "base_uri": "https://localhost:8080/"
        },
        "id": "SX5kMSeX3_3P",
        "outputId": "ccc43192-962e-4484-bbda-69dd1f7336e1"
      },
      "execution_count": 22,
      "outputs": [
        {
          "output_type": "stream",
          "name": "stdout",
          "text": [
            "[12, 14, 50, 60]\n"
          ]
        }
      ]
    },
    {
      "cell_type": "code",
      "source": [
        "# (iii)\n",
        "L.sort()\n",
        "print(L)"
      ],
      "metadata": {
        "colab": {
          "base_uri": "https://localhost:8080/"
        },
        "id": "5MDwAWXn43P1",
        "outputId": "becc1e6d-44da-4d57-99d2-cebc25a799c2"
      },
      "execution_count": 23,
      "outputs": [
        {
          "output_type": "stream",
          "name": "stdout",
          "text": [
            "[12, 14, 50, 60]\n"
          ]
        }
      ]
    },
    {
      "cell_type": "code",
      "source": [
        "L.sort(reverse=True)\n",
        "\n",
        "print(L)"
      ],
      "metadata": {
        "colab": {
          "base_uri": "https://localhost:8080/"
        },
        "id": "fXzgs0hP5dNd",
        "outputId": "169e6493-8660-49be-82ed-e754fa6f3fe0"
      },
      "execution_count": 25,
      "outputs": [
        {
          "output_type": "stream",
          "name": "stdout",
          "text": [
            "[60, 50, 14, 12]\n"
          ]
        }
      ]
    },
    {
      "cell_type": "code",
      "source": [
        "if 13 in L:\n",
        "    print(\"13 is present in L\")\n",
        "else:\n",
        "    print(\"13 is not present in L\")\n"
      ],
      "metadata": {
        "colab": {
          "base_uri": "https://localhost:8080/"
        },
        "id": "dD1tw2Nx6yaF",
        "outputId": "d944099d-7bcf-4e69-ea54-6da950be6bf9"
      },
      "execution_count": 26,
      "outputs": [
        {
          "output_type": "stream",
          "name": "stdout",
          "text": [
            "13 is not present in L\n"
          ]
        }
      ]
    },
    {
      "cell_type": "code",
      "source": [
        "print(len(L))\n"
      ],
      "metadata": {
        "colab": {
          "base_uri": "https://localhost:8080/"
        },
        "id": "G6Q3JO5H_n6p",
        "outputId": "45804b30-4973-4b53-9c82-bb8e3b17d005"
      },
      "execution_count": 27,
      "outputs": [
        {
          "output_type": "stream",
          "name": "stdout",
          "text": [
            "4\n"
          ]
        }
      ]
    },
    {
      "cell_type": "code",
      "source": [
        "print(sum(L))\n"
      ],
      "metadata": {
        "colab": {
          "base_uri": "https://localhost:8080/"
        },
        "id": "T-z5N5OJ_xuq",
        "outputId": "363a4b91-3f47-4d0f-b7ac-6b4862e5a48d"
      },
      "execution_count": 28,
      "outputs": [
        {
          "output_type": "stream",
          "name": "stdout",
          "text": [
            "136\n"
          ]
        }
      ]
    },
    {
      "cell_type": "code",
      "source": [
        "print(sum(x for x in L if x % 2 != 0))\n"
      ],
      "metadata": {
        "colab": {
          "base_uri": "https://localhost:8080/"
        },
        "id": "Doy6mVTE_3o_",
        "outputId": "59ba78b6-0973-4da0-a6cf-4776e4a324c1"
      },
      "execution_count": 29,
      "outputs": [
        {
          "output_type": "stream",
          "name": "stdout",
          "text": [
            "0\n"
          ]
        }
      ]
    },
    {
      "cell_type": "code",
      "source": [
        "print(sum(x for x in L if x % 2 == 0))\n"
      ],
      "metadata": {
        "colab": {
          "base_uri": "https://localhost:8080/"
        },
        "id": "s8O0owBcAoGM",
        "outputId": "b85bfb2b-7be9-4b27-c9ab-15ee3ffd748b"
      },
      "execution_count": 30,
      "outputs": [
        {
          "output_type": "stream",
          "name": "stdout",
          "text": [
            "136\n"
          ]
        }
      ]
    },
    {
      "cell_type": "code",
      "source": [
        "def is_prime(n):\n",
        "    if n < 2:\n",
        "        return False\n",
        "    for i in range(2, int(n**0.5)+1):\n",
        "        if n % i == 0:\n",
        "            return False\n",
        "    return True\n",
        "\n",
        "print(sum(x for x in L if is_prime(x)))\n"
      ],
      "metadata": {
        "colab": {
          "base_uri": "https://localhost:8080/"
        },
        "id": "khxJOxtKAsZl",
        "outputId": "5b2de174-882f-4901-d04a-7efc40516c32"
      },
      "execution_count": 31,
      "outputs": [
        {
          "output_type": "stream",
          "name": "stdout",
          "text": [
            "0\n"
          ]
        }
      ]
    },
    {
      "cell_type": "code",
      "source": [
        "L.clear()\n"
      ],
      "metadata": {
        "id": "oy_E9tcSA_zp"
      },
      "execution_count": 32,
      "outputs": []
    },
    {
      "cell_type": "code",
      "source": [
        "del L\n"
      ],
      "metadata": {
        "id": "FfoClA2vBDgC"
      },
      "execution_count": 33,
      "outputs": []
    },
    {
      "cell_type": "markdown",
      "source": [
        "Dictonary"
      ],
      "metadata": {
        "id": "PkNf15nmCUX-"
      }
    },
    {
      "cell_type": "code",
      "source": [
        "D = {1:5.6, 2:7.8, 3:6.6, 4:8.7, 5:7.7}\n",
        "D[8] = 8.8\n",
        "print(D)"
      ],
      "metadata": {
        "colab": {
          "base_uri": "https://localhost:8080/"
        },
        "id": "XObz3lP_CYhV",
        "outputId": "2360c0c0-eb86-488d-89bb-941176995192"
      },
      "execution_count": 34,
      "outputs": [
        {
          "output_type": "stream",
          "name": "stdout",
          "text": [
            "{1: 5.6, 2: 7.8, 3: 6.6, 4: 8.7, 5: 7.7, 8: 8.8}\n"
          ]
        }
      ]
    },
    {
      "cell_type": "code",
      "source": [
        "D.pop(2)\n",
        "print(D)"
      ],
      "metadata": {
        "colab": {
          "base_uri": "https://localhost:8080/"
        },
        "id": "vrxmPOAAC8B4",
        "outputId": "9b576d62-c243-4de6-d8da-11e7b26de18f"
      },
      "execution_count": 35,
      "outputs": [
        {
          "output_type": "stream",
          "name": "stdout",
          "text": [
            "{1: 5.6, 3: 6.6, 4: 8.7, 5: 7.7, 8: 8.8}\n"
          ]
        }
      ]
    },
    {
      "cell_type": "code",
      "source": [
        "if 6 in D:\n",
        "    print(\"6 is present\")\n",
        "else:\n",
        "    print(\"6 is not present\")\n"
      ],
      "metadata": {
        "colab": {
          "base_uri": "https://localhost:8080/"
        },
        "id": "pqaMyDvADDjO",
        "outputId": "623184ab-501f-4b25-9faa-12b83873c612"
      },
      "execution_count": 36,
      "outputs": [
        {
          "output_type": "stream",
          "name": "stdout",
          "text": [
            "6 is not present\n"
          ]
        }
      ]
    },
    {
      "cell_type": "code",
      "source": [
        "print(len(D))\n"
      ],
      "metadata": {
        "colab": {
          "base_uri": "https://localhost:8080/"
        },
        "id": "h42cKZKRDLfm",
        "outputId": "c987a8dc-028c-49f7-cc05-a8b48a401921"
      },
      "execution_count": 37,
      "outputs": [
        {
          "output_type": "stream",
          "name": "stdout",
          "text": [
            "5\n"
          ]
        }
      ]
    },
    {
      "cell_type": "code",
      "source": [
        "print(sum(D.values()))\n"
      ],
      "metadata": {
        "colab": {
          "base_uri": "https://localhost:8080/"
        },
        "id": "Bj0Kw5f3DSf5",
        "outputId": "c58af477-ac9d-4cd5-c9a9-3e1917ac84f3"
      },
      "execution_count": 38,
      "outputs": [
        {
          "output_type": "stream",
          "name": "stdout",
          "text": [
            "37.4\n"
          ]
        }
      ]
    },
    {
      "cell_type": "code",
      "source": [
        "D[3] = 7.1\n",
        "print(D)"
      ],
      "metadata": {
        "colab": {
          "base_uri": "https://localhost:8080/"
        },
        "id": "rnlCx4CkDYN7",
        "outputId": "123469b6-7f68-4771-859e-efba324b8e4c"
      },
      "execution_count": 39,
      "outputs": [
        {
          "output_type": "stream",
          "name": "stdout",
          "text": [
            "{1: 5.6, 3: 7.1, 4: 8.7, 5: 7.7, 8: 8.8}\n"
          ]
        }
      ]
    },
    {
      "cell_type": "code",
      "source": [
        "D.clear()\n"
      ],
      "metadata": {
        "id": "V3vGnF_8DvIR"
      },
      "execution_count": 40,
      "outputs": []
    },
    {
      "cell_type": "markdown",
      "source": [
        "Sets"
      ],
      "metadata": {
        "id": "jyUthLJBDxu4"
      }
    },
    {
      "cell_type": "code",
      "source": [
        "S1 = {10, 20, 30, 40, 50, 60}\n",
        "S2 = {40, 50, 60, 70, 80, 90}\n",
        "S1.add(55)\n",
        "S1.add(66)\n",
        "print(S1)\n",
        "print(S2)"
      ],
      "metadata": {
        "colab": {
          "base_uri": "https://localhost:8080/"
        },
        "id": "xdQdNjlgD4fm",
        "outputId": "5d127fba-9ddd-4b75-bcc8-ac5c52400fda"
      },
      "execution_count": 1,
      "outputs": [
        {
          "output_type": "stream",
          "name": "stdout",
          "text": [
            "{50, 66, 20, 55, 40, 10, 60, 30}\n",
            "{80, 50, 70, 40, 90, 60}\n"
          ]
        }
      ]
    },
    {
      "cell_type": "code",
      "source": [
        "S1.discard(10)\n",
        "S1.discard(30)\n",
        "print(S1)"
      ],
      "metadata": {
        "colab": {
          "base_uri": "https://localhost:8080/"
        },
        "id": "fO7c_k-UR04U",
        "outputId": "aab746ae-8e5d-4478-feeb-2f75cfba8eb2"
      },
      "execution_count": 2,
      "outputs": [
        {
          "output_type": "stream",
          "name": "stdout",
          "text": [
            "{50, 66, 20, 55, 40, 60}\n"
          ]
        }
      ]
    },
    {
      "cell_type": "code",
      "source": [
        "print(40 in S1)\n"
      ],
      "metadata": {
        "colab": {
          "base_uri": "https://localhost:8080/"
        },
        "id": "tmfoiwl4SAq7",
        "outputId": "752dc61c-1794-4833-e10d-ca31016532ba"
      },
      "execution_count": 3,
      "outputs": [
        {
          "output_type": "stream",
          "name": "stdout",
          "text": [
            "True\n"
          ]
        }
      ]
    },
    {
      "cell_type": "code",
      "source": [
        "union_set = S1.union(S2)\n",
        "print(union_set)\n"
      ],
      "metadata": {
        "colab": {
          "base_uri": "https://localhost:8080/"
        },
        "id": "OjjmQ59nSNMc",
        "outputId": "3f426f79-f69d-4471-f37b-8cd971738222"
      },
      "execution_count": 4,
      "outputs": [
        {
          "output_type": "stream",
          "name": "stdout",
          "text": [
            "{66, 70, 40, 80, 50, 20, 55, 90, 60}\n"
          ]
        }
      ]
    },
    {
      "cell_type": "code",
      "source": [
        "intersection_set = S1.intersection(S2)\n",
        "print(intersection_set)\n"
      ],
      "metadata": {
        "colab": {
          "base_uri": "https://localhost:8080/"
        },
        "id": "-QvDuKaHSXM2",
        "outputId": "bb431d69-cc67-4da0-aaf0-2a91cbb5e0b4"
      },
      "execution_count": 5,
      "outputs": [
        {
          "output_type": "stream",
          "name": "stdout",
          "text": [
            "{40, 50, 60}\n"
          ]
        }
      ]
    },
    {
      "cell_type": "code",
      "source": [
        "difference_set = S1.difference(S2)\n",
        "print(difference_set)\n"
      ],
      "metadata": {
        "colab": {
          "base_uri": "https://localhost:8080/"
        },
        "id": "5weQKtoHSckT",
        "outputId": "8d4ccb2c-c73b-4500-82c4-e83561ea5c83"
      },
      "execution_count": 6,
      "outputs": [
        {
          "output_type": "stream",
          "name": "stdout",
          "text": [
            "{66, 20, 55}\n"
          ]
        }
      ]
    },
    {
      "cell_type": "markdown",
      "source": [
        "Question 4"
      ],
      "metadata": {
        "id": "f4unr2zsTI9t"
      }
    },
    {
      "cell_type": "code",
      "source": [
        "import random\n",
        "import string\n",
        "\n",
        "for _ in range(100):\n",
        "    length = random.randint(6, 8)\n",
        "    rand_str = ''.join(random.choices(string.ascii_letters + string.digits, k=length))\n",
        "    print(rand_str)\n"
      ],
      "metadata": {
        "colab": {
          "base_uri": "https://localhost:8080/"
        },
        "id": "ySLtOIuuTa-n",
        "outputId": "793f6c03-7f12-44d1-ae12-cc18331923ef"
      },
      "execution_count": 7,
      "outputs": [
        {
          "output_type": "stream",
          "name": "stdout",
          "text": [
            "AMBFIC\n",
            "EtRJdWvq\n",
            "FPd1tYS\n",
            "Szb6kGB\n",
            "U9LJnJ\n",
            "mx0iIE\n",
            "hmFk8zf\n",
            "VqNbFT8\n",
            "6khbISI\n",
            "8ccJoI3Q\n",
            "AQ05A2W\n",
            "xfQfbHu\n",
            "r0zSOQ\n",
            "P0NXrcu\n",
            "xqyWZC\n",
            "3Fon0f57\n",
            "dXEUzDJm\n",
            "Pv37exDB\n",
            "pBPQeErJ\n",
            "W3fX3xK\n",
            "B0WOVbBO\n",
            "dZohgp\n",
            "iIc0YF\n",
            "DGTQ2pOT\n",
            "NBOYk2Q\n",
            "yQRTb2W1\n",
            "dgqw9QTS\n",
            "KPEKC1tn\n",
            "xdb9oko\n",
            "anUKqn\n",
            "1Icdhoy\n",
            "DFefuA\n",
            "q4daju\n",
            "IT9KBJ\n",
            "njE1Tfjw\n",
            "BLuIIP\n",
            "AtZJVE7\n",
            "zjGbhA\n",
            "a3UFgEBe\n",
            "RILCTh1p\n",
            "hSxGTIN\n",
            "ESHjpY\n",
            "fN48eGgJ\n",
            "frNAQO\n",
            "Sdzk14e2\n",
            "2NgE38r\n",
            "TeXvOZ\n",
            "5pMyGoXU\n",
            "a5WH0n\n",
            "lBQfVOae\n",
            "8m4fz7J\n",
            "I6mNt0zv\n",
            "TBAf37\n",
            "dA0wOOC\n",
            "Q6Do1UGr\n",
            "ZAL1gG0\n",
            "miCUCux8\n",
            "81luDnM\n",
            "R0TUfM\n",
            "i7PCj25G\n",
            "Io1cDY\n",
            "sxcSyj\n",
            "1HAhhxx\n",
            "31HqSW\n",
            "npE81cBo\n",
            "ZrNNTnm\n",
            "blu5d5Dj\n",
            "Sx1sEre1\n",
            "ICYBbzs\n",
            "iZPPUbO9\n",
            "B5lkoc\n",
            "mbTDV9GS\n",
            "CiQZAcd\n",
            "cXFPALv\n",
            "AcUyMU\n",
            "VnhYKHa\n",
            "sRWxMrEp\n",
            "ZcXn4d\n",
            "yeouWv0e\n",
            "q1FqEWP\n",
            "ZKFQ0PM\n",
            "4tnOU10m\n",
            "1LqV59pZ\n",
            "h7sitI6S\n",
            "gVZ55u\n",
            "rx3DFL\n",
            "0RxXADam\n",
            "O0MxlxCy\n",
            "Uf4eyrZc\n",
            "AuwWDd\n",
            "t45CYotA\n",
            "ysGCWUYo\n",
            "KWSijR\n",
            "qolOXJ7u\n",
            "WzHEQcL\n",
            "XPVpFaH\n",
            "woj7wkKg\n",
            "gZszxn\n",
            "RzBRkd6x\n",
            "DsY1xR\n"
          ]
        }
      ]
    },
    {
      "cell_type": "code",
      "source": [
        "def is_prime(n):\n",
        "    if n < 2:\n",
        "        return False\n",
        "    for i in range(2, int(n**0.5)+1):\n",
        "        if n % i == 0:\n",
        "            return False\n",
        "    return True\n",
        "\n",
        "for num in range(600, 801):\n",
        "    if is_prime(num):\n",
        "        print(num)\n"
      ],
      "metadata": {
        "colab": {
          "base_uri": "https://localhost:8080/"
        },
        "id": "7K2vDURRTin3",
        "outputId": "a1ecdc0d-1a88-43f5-c9ac-e77897f26486"
      },
      "execution_count": 8,
      "outputs": [
        {
          "output_type": "stream",
          "name": "stdout",
          "text": [
            "601\n",
            "607\n",
            "613\n",
            "617\n",
            "619\n",
            "631\n",
            "641\n",
            "643\n",
            "647\n",
            "653\n",
            "659\n",
            "661\n",
            "673\n",
            "677\n",
            "683\n",
            "691\n",
            "701\n",
            "709\n",
            "719\n",
            "727\n",
            "733\n",
            "739\n",
            "743\n",
            "751\n",
            "757\n",
            "761\n",
            "769\n",
            "773\n",
            "787\n",
            "797\n"
          ]
        }
      ]
    },
    {
      "cell_type": "code",
      "source": [
        "for num in range(100, 1001):\n",
        "    if num % 7 == 0 and num % 9 == 0:\n",
        "        print(num)\n"
      ],
      "metadata": {
        "colab": {
          "base_uri": "https://localhost:8080/"
        },
        "id": "5znb-RPZTtW8",
        "outputId": "fa12b3f2-f44a-459b-8939-0bf178f72148"
      },
      "execution_count": 9,
      "outputs": [
        {
          "output_type": "stream",
          "name": "stdout",
          "text": [
            "126\n",
            "189\n",
            "252\n",
            "315\n",
            "378\n",
            "441\n",
            "504\n",
            "567\n",
            "630\n",
            "693\n",
            "756\n",
            "819\n",
            "882\n",
            "945\n"
          ]
        }
      ]
    },
    {
      "cell_type": "markdown",
      "source": [
        "Question 5"
      ],
      "metadata": {
        "id": "hrSTg0jOUG6K"
      }
    },
    {
      "cell_type": "code",
      "source": [
        "import random\n",
        "\n",
        "list1 = random.sample(range(10, 31), 10)\n",
        "list2 = random.sample(range(10, 31), 10)\n",
        "\n",
        "# (i) Common numbers in the two lists\n",
        "common = set(list1).intersection(list2)\n",
        "print(\"Common numbers:\", common)\n",
        "\n",
        "# (ii) Unique numbers in both lists\n",
        "unique = set(list1).symmetric_difference(list2)\n",
        "print(\"Unique numbers:\", unique)\n",
        "\n",
        "# (iii) Minimum in both lists\n",
        "print(\"Minimum in list1:\", min(list1))\n",
        "print(\"Minimum in list2:\", min(list2))\n",
        "\n",
        "# (iv) Maximum in both lists\n",
        "print(\"Maximum in list1:\", max(list1))\n",
        "print(\"Maximum in list2:\", max(list2))\n",
        "\n",
        "# (v) Sum of both the lists\n",
        "print(\"Sum of list1:\", sum(list1))\n",
        "print(\"Sum of list2:\", sum(list2))\n"
      ],
      "metadata": {
        "colab": {
          "base_uri": "https://localhost:8080/"
        },
        "id": "kQK1h_0oTyMS",
        "outputId": "a8b15d82-1fcf-4850-eea7-f9f7b451ef6c"
      },
      "execution_count": 10,
      "outputs": [
        {
          "output_type": "stream",
          "name": "stdout",
          "text": [
            "Common numbers: {16, 10, 28, 22}\n",
            "Unique numbers: {14, 17, 18, 19, 20, 21, 23, 24, 25, 27, 29, 30}\n",
            "Minimum in list1: 10\n",
            "Minimum in list2: 10\n",
            "Maximum in list1: 28\n",
            "Maximum in list2: 30\n",
            "Sum of list1: 207\n",
            "Sum of list2: 212\n"
          ]
        }
      ]
    },
    {
      "cell_type": "markdown",
      "source": [
        "Question 6"
      ],
      "metadata": {
        "id": "dKY7JYiNVag3"
      }
    },
    {
      "cell_type": "code",
      "source": [
        "import random\n",
        "\n",
        "# Generate list\n",
        "nums = [random.randint(100, 900) for _ in range(100)]\n",
        "\n",
        "# (i) All odd numbers\n",
        "odds = [n for n in nums if n % 2 != 0]\n",
        "print(\"Odd numbers count:\", len(odds))\n",
        "\n",
        "# (ii) All even numbers\n",
        "evens = [n for n in nums if n % 2 == 0]\n",
        "print(\"Even numbers count:\", len(evens))\n",
        "\n",
        "# (iii) All prime numbers\n",
        "def is_prime(n):\n",
        "    if n < 2:\n",
        "        return False\n",
        "    for i in range(2, int(n**0.5)+1):\n",
        "        if n % i == 0:\n",
        "            return False\n",
        "    return True\n",
        "\n",
        "primes = [n for n in nums if is_prime(n)]\n",
        "print(\"Prime numbers count:\", len(primes))\n"
      ],
      "metadata": {
        "colab": {
          "base_uri": "https://localhost:8080/"
        },
        "id": "MIk3CdK5VfLB",
        "outputId": "378bacb6-7aca-4d6f-f1df-ad067e1184f0"
      },
      "execution_count": 13,
      "outputs": [
        {
          "output_type": "stream",
          "name": "stdout",
          "text": [
            "Odd numbers count: 56\n",
            "Even numbers count: 44\n",
            "Prime numbers count: 18\n"
          ]
        }
      ]
    },
    {
      "cell_type": "markdown",
      "source": [
        "Question 7"
      ],
      "metadata": {
        "id": "5oxy4gtdVwff"
      }
    },
    {
      "cell_type": "code",
      "source": [
        "D = {1: \"One\", 2: \"Two\", 3: \"Three\", 4: \"Four\", 5: \"Five\"}\n",
        "\n",
        "with open(\"dict_output.txt\", \"w\") as f:\n",
        "    for k, v in D.items():\n",
        "        f.write(f\"Key{k}, Value{v}\\n\")\n"
      ],
      "metadata": {
        "id": "1TML20-nV0d6"
      },
      "execution_count": 15,
      "outputs": []
    },
    {
      "cell_type": "markdown",
      "source": [
        "Question 8"
      ],
      "metadata": {
        "id": "QRPUH3aZWOHs"
      }
    },
    {
      "cell_type": "code",
      "source": [
        "L = [\"One\", \"Two\", \"Three\", \"Four\", \"Five\"]\n",
        "\n",
        "with open(\"list_lengths.txt\", \"w\") as f:\n",
        "    for item in L:\n",
        "        f.write(f\"{item}, {len(item)}\\n\")\n"
      ],
      "metadata": {
        "id": "rFgVamIYWTZs"
      },
      "execution_count": 16,
      "outputs": []
    },
    {
      "cell_type": "markdown",
      "source": [
        "Question 9"
      ],
      "metadata": {
        "id": "9EBVt6JYWgpV"
      }
    },
    {
      "cell_type": "code",
      "source": [
        "import random\n",
        "import string\n",
        "\n",
        "with open(\"random_strings.txt\", \"w\") as f:\n",
        "    for _ in range(100):\n",
        "        length = random.randint(10, 15)\n",
        "        rand_str = ''.join(random.choices(string.ascii_letters + string.digits, k=length))\n",
        "        f.write(rand_str + \"\\n\")\n"
      ],
      "metadata": {
        "id": "RlDgKESYWmLy"
      },
      "execution_count": 17,
      "outputs": []
    },
    {
      "cell_type": "markdown",
      "source": [
        "Question 10"
      ],
      "metadata": {
        "id": "Okb2n4KXW22D"
      }
    },
    {
      "cell_type": "code",
      "source": [
        "def is_prime(n):\n",
        "    if n < 2:\n",
        "        return False\n",
        "    for i in range(2, int(n**0.5)+1):\n",
        "        if n % i == 0:\n",
        "            return False\n",
        "    return True\n",
        "\n",
        "with open(\"primes_600_800.txt\", \"w\") as f:\n",
        "    for n in range(600, 801):\n",
        "        if is_prime(n):\n",
        "            f.write(str(n) + \"\\n\")\n"
      ],
      "metadata": {
        "id": "lAuH-PL4W7tw"
      },
      "execution_count": 18,
      "outputs": []
    },
    {
      "cell_type": "markdown",
      "source": [
        "Question 11"
      ],
      "metadata": {
        "id": "bRhcJn4EXChE"
      }
    },
    {
      "cell_type": "code",
      "source": [
        "import time\n",
        "\n",
        "start = time.time()\n",
        "# Example: sum of first 100000 numbers\n",
        "total = sum(range(100000))\n",
        "end = time.time()\n",
        "print(\"Time taken:\", end - start, \"seconds\")\n"
      ],
      "metadata": {
        "colab": {
          "base_uri": "https://localhost:8080/"
        },
        "id": "F3pZh945XFzT",
        "outputId": "df1ae3dd-9813-46d1-971b-6abdf7680d61"
      },
      "execution_count": 19,
      "outputs": [
        {
          "output_type": "stream",
          "name": "stdout",
          "text": [
            "Time taken: 0.0010592937469482422 seconds\n"
          ]
        }
      ]
    },
    {
      "cell_type": "markdown",
      "source": [
        "Question 12"
      ],
      "metadata": {
        "id": "FRVTR__pXOuk"
      }
    },
    {
      "cell_type": "code",
      "source": [
        "import random\n",
        "import time\n",
        "import matplotlib.pyplot as plt\n",
        "\n",
        "sizes = [5000, 10000, 15000, 20000, 25000]\n",
        "times = []\n",
        "\n",
        "for size in sizes:\n",
        "    lst = [random.randint(1, 100000) for _ in range(size)]\n",
        "    start = time.time()\n",
        "    lst.sort()\n",
        "    end = time.time()\n",
        "    elapsed = end - start\n",
        "    times.append(elapsed)\n",
        "    print(f\"Sorted {size} elements in {elapsed:.6f} seconds\")\n",
        "\n",
        "# Plotting the graph\n",
        "plt.plot(sizes, times, marker='o')\n",
        "plt.title('Sorting Time vs List Size')\n",
        "plt.xlabel('Number of elements in list')\n",
        "plt.ylabel('Time taken (seconds)')\n",
        "plt.grid(True)\n",
        "plt.show()\n"
      ],
      "metadata": {
        "colab": {
          "base_uri": "https://localhost:8080/",
          "height": 559
        },
        "id": "NN_KKc17XRbe",
        "outputId": "12804a3e-ee26-4a7b-96fe-6fa84f6b1213"
      },
      "execution_count": 20,
      "outputs": [
        {
          "output_type": "stream",
          "name": "stdout",
          "text": [
            "Sorted 5000 elements in 0.000711 seconds\n",
            "Sorted 10000 elements in 0.001136 seconds\n",
            "Sorted 15000 elements in 0.001798 seconds\n",
            "Sorted 20000 elements in 0.002439 seconds\n",
            "Sorted 25000 elements in 0.003098 seconds\n"
          ]
        },
        {
          "output_type": "display_data",
          "data": {
            "text/plain": [
              "<Figure size 640x480 with 1 Axes>"
            ],
            "image/png": "[encoded data removed]"
          },
          "metadata": {}
        }
      ]
    },
    {
      "cell_type": "markdown",
      "source": [
        "Question 13"
      ],
      "metadata": {
        "id": "wtAfw9ujXqKB"
      }
    },
    {
      "cell_type": "code",
      "source": [
        "# Sample data: student marks in 5 subjects\n",
        "students = {\n",
        "    \"Alice\": [78, 85, 90, 95, 88],\n",
        "    \"Bob\": [82, 79, 88, 91, 76],\n",
        "    \"Charlie\": [90, 92, 85, 87, 89],\n",
        "    \"David\": [70, 75, 80, 72, 68],\n",
        "    \"Eva\": [88, 91, 86, 90, 85]\n",
        "}\n",
        "\n",
        "# Calculate average marks for each student\n",
        "averages = {name: sum(marks)/len(marks) for name, marks in students.items()}\n",
        "\n",
        "# Find student with maximum and minimum average\n",
        "max_student = max(averages, key=averages.get)\n",
        "min_student = min(averages, key=averages.get)\n",
        "\n",
        "print(\"Student with maximum average marks:\", max_student, averages[max_student])\n",
        "print(\"Student with minimum average marks:\", min_student, averages[min_student])\n"
      ],
      "metadata": {
        "colab": {
          "base_uri": "https://localhost:8080/"
        },
        "id": "ghASkul1XtHW",
        "outputId": "83441ed6-8c6b-4357-d902-6bdf81e0ac69"
      },
      "execution_count": 21,
      "outputs": [
        {
          "output_type": "stream",
          "name": "stdout",
          "text": [
            "Student with maximum average marks: Charlie 88.6\n",
            "Student with minimum average marks: David 73.0\n"
          ]
        }
      ]
    }
  ]
}